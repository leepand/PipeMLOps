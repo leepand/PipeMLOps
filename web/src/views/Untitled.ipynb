{
 "cells": [
  {
   "cell_type": "code",
   "execution_count": 1,
   "metadata": {},
   "outputs": [],
   "source": [
    "!cp -r /Users/leepand/Downloads/github/api_automation_test/frontend/src/assets ."
   ]
  },
  {
   "cell_type": "code",
   "execution_count": 4,
   "metadata": {},
   "outputs": [
    {
     "ename": "TypeError",
     "evalue": "request() missing 1 required positional argument: 'url'",
     "output_type": "error",
     "traceback": [
      "\u001b[0;31m-----------------------------------------------------\u001b[0m",
      "\u001b[0;31mTypeError\u001b[0m           Traceback (most recent call last)",
      "\u001b[0;32m<ipython-input-4-3c6c4c70a537>\u001b[0m in \u001b[0;36m<module>\u001b[0;34m\u001b[0m\n\u001b[1;32m      9\u001b[0m     \u001b[0mconn\u001b[0m \u001b[0;34m=\u001b[0m \u001b[0mHTTPConnection\u001b[0m\u001b[0;34m(\u001b[0m\u001b[0;34m\"localhost:\"\u001b[0m \u001b[0;34m+\u001b[0m \u001b[0mstr\u001b[0m\u001b[0;34m(\u001b[0m\u001b[0mmodelPort\u001b[0m\u001b[0;34m)\u001b[0m\u001b[0;34m)\u001b[0m\u001b[0;34m\u001b[0m\u001b[0;34m\u001b[0m\u001b[0m\n\u001b[1;32m     10\u001b[0m     \u001b[0;31m#conn.request(\"POST\", \"/fib\", json.dumps(data),  { 'Content-type': 'application/json' })\u001b[0m\u001b[0;34m\u001b[0m\u001b[0;34m\u001b[0m\u001b[0;34m\u001b[0m\u001b[0m\n\u001b[0;32m---> 11\u001b[0;31m     \u001b[0mconn\u001b[0m\u001b[0;34m.\u001b[0m\u001b[0mrequest\u001b[0m\u001b[0;34m(\u001b[0m\u001b[0;34m\"GET\"\u001b[0m\u001b[0;34m)\u001b[0m\u001b[0;34m\u001b[0m\u001b[0;34m\u001b[0m\u001b[0m\n\u001b[0m\u001b[1;32m     12\u001b[0m     \u001b[0mresponse\u001b[0m \u001b[0;34m=\u001b[0m \u001b[0mconn\u001b[0m\u001b[0;34m.\u001b[0m\u001b[0mgetresponse\u001b[0m\u001b[0;34m(\u001b[0m\u001b[0;34m)\u001b[0m\u001b[0;34m\u001b[0m\u001b[0;34m\u001b[0m\u001b[0m\n\u001b[1;32m     13\u001b[0m \u001b[0;34m\u001b[0m\u001b[0m\n",
      "\u001b[0;31mTypeError\u001b[0m: request() missing 1 required positional argument: 'url'"
     ]
    }
   ],
   "source": [
    "\n",
    "\n",
    "import json\n",
    "from http.client import HTTPConnection\n",
    "\n",
    "#data = { \"image\": \"data:image/jpeg;base64,...\" }\n",
    "data = { \"n\": 20 }\n",
    "\n",
    "modelPort = 24845\n",
    "for j in range(14):\n",
    "    conn = HTTPConnection(\"localhost:\" + str(modelPort))\n",
    "    #conn.request(\"POST\", \"/fib\", json.dumps(data),  { 'Content-type': 'application/json' })\n",
    "    conn.request(\"GET\")\n",
    "    response = conn.getresponse()\n",
    "\n",
    "    # use output in your project\n",
    "    output = json.loads(response.read())\n",
    "    \n",
    "    print(response.status, response.reason)\n",
    "    # 200 OK\n",
    "\n",
    "    print(output)\n",
    "# {\n",
    "#    \"results\": [\n",
    "#       {\n",
    "#          \"caption\": \"a young man riding a skateboard down the side of a ramp .\",\n",
    "#          \"probability\": 0.0006727073\n",
    "#       }\n",
    "#    ]\n",
    "# }"
   ]
  },
  {
   "cell_type": "code",
   "execution_count": 7,
   "metadata": {},
   "outputs": [
    {
     "data": {
      "text/plain": [
       "{'GPU': False,\n",
       " 'commands': [{'description': 'Generates a red square when the input text input is \"red\".',\n",
       "   'inputs': [{'default': 0,\n",
       "     'description': '模型输入',\n",
       "     'name': 'n',\n",
       "     'type': 'number'}],\n",
       "   'name': 'fib',\n",
       "   'outputs': [{'default': 0,\n",
       "     'description': '模型输出',\n",
       "     'name': 'result',\n",
       "     'type': 'number'}]},\n",
       "  {'description': 'model2',\n",
       "   'inputs': [{'default': 0,\n",
       "     'description': '模型输入',\n",
       "     'name': 'n',\n",
       "     'type': 'number'}],\n",
       "   'name': 'fib2',\n",
       "   'outputs': [{'default': 0,\n",
       "     'description': '模型输出',\n",
       "     'name': 'result',\n",
       "     'type': 'number'}]}],\n",
       " 'millisRunning': None,\n",
       " 'millisSinceLastCommand': 238507,\n",
       " 'modelSDKVersion': '0.2.0',\n",
       " 'options': [{'default': '',\n",
       "   'description': None,\n",
       "   'minLength': 0,\n",
       "   'name': 'model',\n",
       "   'type': 'text'},\n",
       "  {'default': '0.1.0',\n",
       "   'description': None,\n",
       "   'minLength': 0,\n",
       "   'name': 'version',\n",
       "   'type': 'text'}]}"
      ]
     },
     "execution_count": 7,
     "metadata": {},
     "output_type": "execute_result"
    }
   ],
   "source": [
    "import  requests\n",
    "url=\"http://\"+\"localhost:\" + str(modelPort)\n",
    "resp=requests.get(url)#向url对应的服务器发送相应的get请求，获得对应的相应 。\n",
    "resp.json()"
   ]
  },
  {
   "cell_type": "code",
   "execution_count": 28,
   "metadata": {},
   "outputs": [
    {
     "data": {
      "text/plain": [
       "201"
      ]
     },
     "execution_count": 28,
     "metadata": {},
     "output_type": "execute_result"
    }
   ],
   "source": [
    "import  requests\n",
    "\n",
    "import traceback\n",
    "from retrying import retry\n",
    "import requests\n",
    "#from user_agent import agert as ag\n",
    "import random \n",
    "def _result(result):\n",
    "    return result is None\n",
    "\n",
    "\n",
    "def header(header):\n",
    "    try:\n",
    "        if header != None:\n",
    "            header['User-Agent'] = random.choice(ag)\n",
    "        else:\n",
    "            header = {'User-Agent': random.choice(ag)}\n",
    "        return header\n",
    "    except Exception as e:\n",
    "        traceback.print_exc(e) \n",
    "\n",
    "modelPort = 248451\n",
    "url=\"http://\"+\"localhost:{}\".format(str(modelPort))\n",
    "\n",
    "import  requests\n",
    "\n",
    "import traceback\n",
    "class resq:\n",
    "    def __init__(self,status_code,msg):\n",
    "        self.status_code=status_code\n",
    "        self.msg=msg\n",
    "def My_Request_Get(url, headers=None):\n",
    "    try:\n",
    "        response = requests.get(url, headers=headers, timeout=5)\n",
    "    except Exception as e:\n",
    "        response=resq\n",
    "        error = str(traceback.format_exc())\n",
    "        response.status_code=201\n",
    "        response.msg=error\n",
    "        \n",
    "    if response.status_code != 200:\n",
    "        return response.status_code\n",
    "    #    raise requests.RequestException('my_request_get error!!!!')\n",
    "    return response.json()\n",
    "    \n",
    "My_Request_Get(url)"
   ]
  },
  {
   "cell_type": "code",
   "execution_count": null,
   "metadata": {},
   "outputs": [],
   "source": []
  }
 ],
 "metadata": {
  "kernelspec": {
   "display_name": "Python 3",
   "language": "python",
   "name": "python3"
  },
  "language_info": {
   "codemirror_mode": {
    "name": "ipython",
    "version": 3
   },
   "file_extension": ".py",
   "mimetype": "text/x-python",
   "name": "python",
   "nbconvert_exporter": "python",
   "pygments_lexer": "ipython3",
   "version": "3.7.7"
  }
 },
 "nbformat": 4,
 "nbformat_minor": 4
}
